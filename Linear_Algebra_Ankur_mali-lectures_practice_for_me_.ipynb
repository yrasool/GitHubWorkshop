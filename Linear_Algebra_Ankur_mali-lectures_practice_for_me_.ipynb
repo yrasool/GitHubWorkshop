{
  "nbformat": 4,
  "nbformat_minor": 0,
  "metadata": {
    "colab": {
      "provenance": [],
      "authorship_tag": "ABX9TyPJaDS3QPSQKeJUm1IOs0O4",
      "include_colab_link": true
    },
    "kernelspec": {
      "name": "python3",
      "display_name": "Python 3"
    },
    "language_info": {
      "name": "python"
    }
  },
  "cells": [
    {
      "cell_type": "markdown",
      "metadata": {
        "id": "view-in-github",
        "colab_type": "text"
      },
      "source": [
        "<a href=\"https://colab.research.google.com/github/yrasool/GitHubWorkshop/blob/main/Linear_Algebra_Ankur_mali-lectures_practice_for_me_.ipynb\" target=\"_parent\"><img src=\"https://colab.research.google.com/assets/colab-badge.svg\" alt=\"Open In Colab\"/></a>"
      ]
    },
    {
      "cell_type": "code",
      "execution_count": null,
      "metadata": {
        "id": "DsqpNCdZfYeA"
      },
      "outputs": [],
      "source": []
    },
    {
      "cell_type": "code",
      "source": [
        "x = (1,2,3,4,)\n",
        "y = (5,6,7,8)\n",
        "n =len(x)\n",
        "if n == len(y):\n",
        "  result = 0\n",
        "  for i in range (n):\n",
        "    result += x[i] *y[i]\n",
        "    print(result)\n",
        "\n",
        "#It is clear that in the code above we could change line 7 to result += y[i] * x[i] without affecting the result.\n",
        "#We can use the numpy module to apply the same operation, to calculate the inner product. We import the numpy module and assign it a name np for the following code:"
      ],
      "metadata": {
        "id": "9RpcIccGfZRt"
      },
      "execution_count": null,
      "outputs": []
    },
    {
      "cell_type": "code",
      "source": [
        "import numpy as np\n",
        "\n",
        "x = np.array([1,2,3,4])\n",
        "y = np.array([5,6,7,8])\n",
        "\n",
        "print(\"x:\", x)\n",
        "print(\"y:\", y)\n",
        "\n",
        "np.dot(y,x)#dot product of the two vectors\n",
        "\n",
        "#Both x and y are row vectors we can transform them to column vectors\n",
        "x.shape = (4,1)\n",
        "print(\"xT :\" , x)\n",
        "y.shape =(4,1)\n",
        "print(\"yT:\", y)"
      ],
      "metadata": {
        "colab": {
          "base_uri": "https://localhost:8080/"
        },
        "id": "t8nyAjCbiK9K",
        "outputId": "28aa25a5-e954-460f-d932-fdcb602e3d8f"
      },
      "execution_count": 6,
      "outputs": [
        {
          "output_type": "stream",
          "name": "stdout",
          "text": [
            "x: [1 2 3 4]\n",
            "y: [5 6 7 8]\n",
            "xT : [[1]\n",
            " [2]\n",
            " [3]\n",
            " [4]]\n",
            "yT: [[5]\n",
            " [6]\n",
            " [7]\n",
            " [8]]\n"
          ]
        }
      ]
    },
    {
      "cell_type": "code",
      "source": [
        "x = np.array([1,2,3,4])\n",
        "y = np.array([5,6,7,8])\n",
        "print(\"y:\", y.T)\n",
        "print(\"x:\", x.T)\n",
        "\n",
        "\n",
        "#ONLY IF WE DECLARE VARIABLES TO BE MATRIX INSTEAD OF ARRAUY WILL THE TRANSPOSE WORK\n",
        "x = np.array([[1,2,3,4]])\n",
        "y = np.array([[5,6,7,8]])\n",
        "print(\"y:\", y.T)\n",
        "print(\"x:\", x.T)\n",
        "\n",
        "np.dot(y,x.T)\n",
        "#to get array as 70 \n",
        "np.dot(y,x.T)[0][0]\n",
        "\n",
        "\n",
        "\n"
      ],
      "metadata": {
        "colab": {
          "base_uri": "https://localhost:8080/"
        },
        "id": "b8j06VFqk0Zy",
        "outputId": "41fb4598-b710-4ad6-ba0c-bdc5c1b29a32"
      },
      "execution_count": 10,
      "outputs": [
        {
          "output_type": "stream",
          "name": "stdout",
          "text": [
            "y: [5 6 7 8]\n",
            "x: [1 2 3 4]\n",
            "y: [[5]\n",
            " [6]\n",
            " [7]\n",
            " [8]]\n",
            "x: [[1]\n",
            " [2]\n",
            " [3]\n",
            " [4]]\n"
          ]
        },
        {
          "output_type": "execute_result",
          "data": {
            "text/plain": [
              "70"
            ]
          },
          "metadata": {},
          "execution_count": 10
        }
      ]
    },
    {
      "cell_type": "code",
      "source": [
        "import tensorflow as tf\n",
        "tf.reduce_sum(tf.multiply(x,y), 1)\n",
        "tf.reduce_sum(tf.multiply(y,x), 1)\n",
        "tf.shape(x)\n",
        "tf.shape(y)\n",
        "print(y.T)"
      ],
      "metadata": {
        "colab": {
          "base_uri": "https://localhost:8080/"
        },
        "id": "240rylaimSn2",
        "outputId": "cc56ca5b-9c25-44ad-c4fe-1281f5487e74"
      },
      "execution_count": 13,
      "outputs": [
        {
          "output_type": "stream",
          "name": "stdout",
          "text": [
            "[[5]\n",
            " [6]\n",
            " [7]\n",
            " [8]]\n"
          ]
        }
      ]
    },
    {
      "cell_type": "code",
      "source": [
        "x = np.array([[1,2,3,4]])\n",
        "print(\"x:\", x)\n",
        "print(\"xT : \", np.reshape(x, (4,1)))\n",
        "print(\"xT : \",x.T)\n",
        "print(\"xT : \",x.transpose())\n"
      ],
      "metadata": {
        "colab": {
          "base_uri": "https://localhost:8080/"
        },
        "id": "cw1i8Yc1shk8",
        "outputId": "40c311d3-26b7-41f5-8c12-af84026e6397"
      },
      "execution_count": 15,
      "outputs": [
        {
          "output_type": "stream",
          "name": "stdout",
          "text": [
            "x: [[1 2 3 4]]\n",
            "xT :  [[1]\n",
            " [2]\n",
            " [3]\n",
            " [4]]\n",
            "xT :  [[1]\n",
            " [2]\n",
            " [3]\n",
            " [4]]\n",
            "xT :  [[1]\n",
            " [2]\n",
            " [3]\n",
            " [4]]\n"
          ]
        }
      ]
    },
    {
      "cell_type": "code",
      "source": [
        "#WE can use outer product\n",
        "\n",
        "x = np.array([[1,2,3,4]])\n",
        "y = np.array([[5,6,7,8]])\n",
        "\n",
        "x.T *y\n",
        "np.outer(x,y)\n",
        "\n",
        "\n"
      ],
      "metadata": {
        "colab": {
          "base_uri": "https://localhost:8080/"
        },
        "id": "AJ8NK_wltZNQ",
        "outputId": "20ae65c3-fc3d-4de8-a148-3aae61511b37"
      },
      "execution_count": 18,
      "outputs": [
        {
          "output_type": "execute_result",
          "data": {
            "text/plain": [
              "<tf.Tensor: shape=(1, 4, 1, 4), dtype=int64, numpy=\n",
              "array([[[[ 5,  6,  7,  8]],\n",
              "\n",
              "        [[10, 12, 14, 16]],\n",
              "\n",
              "        [[15, 18, 21, 24]],\n",
              "\n",
              "        [[20, 24, 28, 32]]]])>"
            ]
          },
          "metadata": {},
          "execution_count": 18
        }
      ]
    },
    {
      "cell_type": "code",
      "source": [
        "#using arrays no instead of matrices\n",
        "x = np.array([1,2,3,4])\n",
        "y = np.array([5,6,7,8])\n",
        "\n",
        "\n",
        "np.outer(x,y)\n",
        "tf.tensordot(x,y,axes = 0)\n",
        "\n"
      ],
      "metadata": {
        "colab": {
          "base_uri": "https://localhost:8080/"
        },
        "id": "mKdVe0fiuFrs",
        "outputId": "98e142b7-b3e9-4159-b545-97988e5fa41a"
      },
      "execution_count": 22,
      "outputs": [
        {
          "output_type": "execute_result",
          "data": {
            "text/plain": [
              "<tf.Tensor: shape=(4, 4), dtype=int64, numpy=\n",
              "array([[ 5,  6,  7,  8],\n",
              "       [10, 12, 14, 16],\n",
              "       [15, 18, 21, 24],\n",
              "       [20, 24, 28, 32]])>"
            ]
          },
          "metadata": {},
          "execution_count": 22
        }
      ]
    },
    {
      "cell_type": "code",
      "source": [
        "#Matrix Vector Product\n",
        "#Variable in TensorFlow, you need to specify its initial value. This can be a scalar value, a list, an array, or a tensor. Once a Variable is created, you can perform various operations on it, such as adding, multiplying, or reshaping it.\n",
        "#In summary, Variable is a special kind of tensor that is used to store mutable state in TensorFlow. \n",
        "import numpy as np\n",
        "A = np.array([[4,5,6],\n",
        "              [7,8,6]])\n",
        "A*2\n",
        "\n",
        "\n",
        "A_t = tf.Variable([[4,5,6],\n",
        "                   [7,8,9]])\n",
        "tf.multiply(A_t,2)  \n",
        "\n",
        "A = np.array([[4,5,6],\n",
        "              [7,8,6]])\n",
        "x = np.array([1,2,3])\n",
        "A.dot(x)\n",
        "\n",
        "A = tf.Variable([[4,5,6],\n",
        "                   [7,8,9]])\n",
        "x = tf.Variable([1,2,3])  \n",
        "tf.reduce_sum(tf.multiply(A,x), 1)\n",
        "\n",
        "\n",
        "\n"
      ],
      "metadata": {
        "colab": {
          "base_uri": "https://localhost:8080/"
        },
        "id": "e7Kcac50wDaA",
        "outputId": "c338983f-9818-46be-a6cc-3629182841df"
      },
      "execution_count": 26,
      "outputs": [
        {
          "output_type": "execute_result",
          "data": {
            "text/plain": [
              "<tf.Tensor: shape=(2,), dtype=int32, numpy=array([32, 50], dtype=int32)>"
            ]
          },
          "metadata": {},
          "execution_count": 26
        }
      ]
    },
    {
      "cell_type": "code",
      "source": [
        "#Matrix Multiplication\n",
        "import numpy as np\n",
        "A = np.array([[0,1,2],\n",
        "              [3,4,5],\n",
        "              [6,7,8],\n",
        "              [9,10,11]])\n",
        "print(\"A:\", A)\n",
        "A.shape\n",
        "\n",
        "A= tf.Variable([[0,1,2],\n",
        "              [3,4,5],\n",
        "              [6,7,8],\n",
        "              [9,10,11]])\n",
        "print(A)\n",
        "\n",
        "#The shape property of a matrix contains the \n",
        " #(number of rows) and (number of columns) properties in a tuple, \n",
        " #in that particular order. We can create an identity matrix for the use in \n",
        " #by using the n value:\n",
        "\n",
        "\n"
      ],
      "metadata": {
        "colab": {
          "base_uri": "https://localhost:8080/"
        },
        "id": "Xzwfe8Ij83jE",
        "outputId": "3f41018d-a8bb-4451-9802-d8bc146087ea"
      },
      "execution_count": 29,
      "outputs": [
        {
          "output_type": "stream",
          "name": "stdout",
          "text": [
            "A: [[ 0  1  2]\n",
            " [ 3  4  5]\n",
            " [ 6  7  8]\n",
            " [ 9 10 11]]\n",
            "<tf.Variable 'Variable:0' shape=(4, 3) dtype=int32, numpy=\n",
            "array([[ 0,  1,  2],\n",
            "       [ 3,  4,  5],\n",
            "       [ 6,  7,  8],\n",
            "       [ 9, 10, 11]], dtype=int32)>\n"
          ]
        },
        {
          "output_type": "execute_result",
          "data": {
            "text/plain": [
              "array([[1, 0, 0],\n",
              "       [0, 1, 0],\n",
              "       [0, 0, 1]])"
            ]
          },
          "metadata": {},
          "execution_count": 29
        }
      ]
    },
    {
      "cell_type": "code",
      "source": [
        "#Identity Matrix, the \n",
        "np.identity(A.shape[1],dtype = \"int\")#this gives us identity matrix of\n",
        "#shape 3*3\n",
        "tf.eye(3,3)#tensor flow identity matrix\n",
        "#To generate an identity matrix for the use in \n",
        "#we would use the m value:\n",
        "#We can compute the dot product of  and its identity matrix :\n",
        "np.identity(A.shape[0], dtype=\"int\")\n",
        "n = A.shape[1]\n",
        "I = np.array(np.identity(n,dtype =\"int\"))\n",
        "np.dot(A,I)\n",
        "#using tensorflow\n",
        "#By specifying axes=1 in tf.tensordot(A, I, axes=1), you are telling TensorFlow to contract the second axis of A with the first axis of I. This means that the second \n",
        "#dimension of A (which has size 3) will be multiplied element-wise with the first dimension of I (which also has size 3).\n",
        "#The resulting tensor will have the shape of the remaining axes after the contraction. In this case, the resulting tensor will be a 4x3 tensor with the same \n",
        "#values as A since each element in A will be multiplied by the corresponding element in I.\n",
        "#Thus, the resulting tensor will have the same shape as A since each element in A is multiplied by the corresponding element in I\n",
        "I= tf.eye(3,3,dtype = tf.dtypes.int32)\n",
        "tf.tensordot(A,I,axes = 1)\n",
        "#using m instead of n \n",
        "m = A.shape[1]\n",
        "I = np.array(np.identity(m, dtype = \"int\"))\n",
        "np.dot(A,I) \n",
        "#The use of m and n is interchangeable in this case, as they \n",
        "#both represent the number of columns in A. In the NumPy example, n is used to calculate the size of the identity matrix I, while in the TensorFlow example the size of I is explicitly set to 3. In both cas\n",
        "#shape as A, since the number of columns in A matches the number \n",
        "#of rows in I.\n"
      ],
      "metadata": {
        "id": "T_MdVwR3DBCP"
      },
      "execution_count": null,
      "outputs": []
    },
    {
      "cell_type": "code",
      "source": [
        "#Diagonal Matrix\n",
        "\n",
        "#D = diag(d1,d2,d3,dn)\n",
        "#use diag function in numpy\n",
        "import numpy as np\n",
        "A = np.array([[0,1,2,3],\n",
        "              [4,5,6,7],\n",
        "              [8,9,10,11],\n",
        "              [12,13,14,15]])\n",
        "np.diag(A)\n",
        "\n",
        "np.diag(A, k =1 )#n np.diag(A, k=1), you are extracting the elements one diagonal \n",
        "#above the main diagonal of the matrix A. This results in a 1-D array containing \n",
        "#the values [1, 6, 11], which are the elements A[0,1], A[1,2], and A[2,3]."
      ],
      "metadata": {
        "colab": {
          "base_uri": "https://localhost:8080/"
        },
        "id": "t_ew8nULC854",
        "outputId": "c2214309-3d86-4fdc-e69a-b5e2d808c9f6"
      },
      "execution_count": 30,
      "outputs": [
        {
          "output_type": "execute_result",
          "data": {
            "text/plain": [
              "array([ 1,  6, 11])"
            ]
          },
          "metadata": {},
          "execution_count": 30
        }
      ]
    },
    {
      "cell_type": "code",
      "source": [
        "tf.linalg.diag_part(A)\n",
        "tf.linalg.diag_part(A, k =1 )\n"
      ],
      "metadata": {
        "id": "fNyqfYXFDwSL"
      },
      "execution_count": null,
      "outputs": []
    }
  ]
}